{
 "cells": [
  {
   "cell_type": "code",
   "execution_count": 26,
   "metadata": {},
   "outputs": [],
   "source": [
    "import spacy\n",
    "import numpy as np"
   ]
  },
  {
   "cell_type": "code",
   "execution_count": 41,
   "metadata": {},
   "outputs": [],
   "source": [
    "model = 'en_core_web_lg'\n",
    "nlp = spacy.load(model)"
   ]
  },
  {
   "cell_type": "code",
   "execution_count": 59,
   "metadata": {},
   "outputs": [],
   "source": [
    "SENTENCES = ['my house is situated in',\n",
    "             'lives in',\n",
    "             'is from',\n",
    "             'comes from',\n",
    "             'happened in',\n",
    "             'was taking place at',\n",
    "             'was born on',\n",
    "             ', age 23',\n",
    "             '']"
   ]
  },
  {
   "cell_type": "code",
   "execution_count": 109,
   "metadata": {},
   "outputs": [],
   "source": [
    "RELATION_TYPES = ['LIVES IN',\n",
    "                  'BIRTHDATE',\n",
    "                  'WHEN', \n",
    "                  'WHERE']"
   ]
  },
  {
   "cell_type": "code",
   "execution_count": 110,
   "metadata": {},
   "outputs": [],
   "source": [
    "def is_relation_type(doc):\n",
    "    similarities = []\n",
    "    non_stop_doc = nlp(' '.join([token.text for token in doc if not token.text in spacy_stopwords]))\n",
    "    for relation_type in RELATION_TYPES:\n",
    "        relation_doc = nlp(relation_type)\n",
    "        similarities.append(non_stop_doc.similarity(relation_doc))\n",
    "    return RELATION_TYPES[np.argmax(similarities)]\n",
    "        "
   ]
  },
  {
   "cell_type": "code",
   "execution_count": 111,
   "metadata": {},
   "outputs": [
    {
     "name": "stdout",
     "output_type": "stream",
     "text": [
      "my house is situated in: WHERE\n",
      "lives in: LIVES IN\n",
      "is from: LIVES IN\n",
      "comes from: WHEN\n",
      "happened in: WHEN\n",
      "was taking place at: WHERE\n",
      "was born on: LIVES IN\n",
      ", age 23: LIVES IN\n"
     ]
    }
   ],
   "source": [
    "for sentence in SENTENCES:\n",
    "    doc = nlp(sentence)\n",
    "    print(str(doc) + ': ' + is_relation_type(doc))"
   ]
  },
  {
   "cell_type": "code",
   "execution_count": null,
   "metadata": {},
   "outputs": [],
   "source": []
  }
 ],
 "metadata": {
  "kernelspec": {
   "display_name": "Python 3",
   "language": "python",
   "name": "python3"
  },
  "language_info": {
   "codemirror_mode": {
    "name": "ipython",
    "version": 3
   },
   "file_extension": ".py",
   "mimetype": "text/x-python",
   "name": "python",
   "nbconvert_exporter": "python",
   "pygments_lexer": "ipython3",
   "version": "3.6.7"
  }
 },
 "nbformat": 4,
 "nbformat_minor": 2
}
