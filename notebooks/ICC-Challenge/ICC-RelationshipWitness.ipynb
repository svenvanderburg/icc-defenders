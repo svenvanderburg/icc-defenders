{
 "cells": [
  {
   "cell_type": "code",
   "execution_count": 1,
   "metadata": {},
   "outputs": [],
   "source": [
    "import spacy"
   ]
  },
  {
   "cell_type": "code",
   "execution_count": 2,
   "metadata": {
    "scrolled": false
   },
   "outputs": [
    {
     "name": "stdout",
     "output_type": "stream",
     "text": [
      "B\n",
      "\t\tDate 8 16 PERSON\n",
      "December 17, 1991 28 45 DATE\n",
      "\n",
      "\t\tDate 45 52 PERSON\n",
      "September 14, 2006 70 88 DATE\n",
      "\t\t\t\n",
      "\n",
      "A.\tCircumstances 88 109 PERSON\n",
      "\n",
      " 127 128 GPE\n",
      "“Marcus BRODY 139 152 ORG\n",
      "15 years old 161 173 DATE\n",
      "late 2002 180 189 DATE\n",
      "Goma 253 257 GPE\n",
      "Rebels 346 352 PERSON\n",
      "one night 385 394 TIME\n",
      "\n",
      " 418 419 GPE\n",
      "Goma 440 444 GPE\n",
      "Congo 542 547 GPE\n",
      "one 561 564 CARDINAL\n",
      "ten years old 831 844 DATE\n",
      "Rebels 918 924 PERSON\n"
     ]
    }
   ],
   "source": [
    "from spacy import displacy\n",
    "#import text file\n",
    "witness_file = open('witness_small.txt','r')\n",
    "text_witness = \"\"\n",
    "text_witness = witness_file.read() \n",
    "if text_witness != \"\":\n",
    "   text = text_witness\n",
    "\n",
    "#load spacy model\n",
    "nlp = spacy.load('en_core_web_sm')\n",
    "doc = nlp(text_witness)\n",
    "\n",
    "for ent in doc.ents:\n",
    "    print(ent.text, ent.start_char, ent.end_char, ent.label_)\n"
   ]
  },
  {
   "cell_type": "code",
   "execution_count": null,
   "metadata": {},
   "outputs": [],
   "source": []
  },
  {
   "cell_type": "code",
   "execution_count": null,
   "metadata": {},
   "outputs": [],
   "source": []
  },
  {
   "cell_type": "code",
   "execution_count": null,
   "metadata": {},
   "outputs": [],
   "source": []
  }
 ],
 "metadata": {
  "kernelspec": {
   "display_name": "Python 3",
   "language": "python",
   "name": "python3"
  },
  "language_info": {
   "codemirror_mode": {
    "name": "ipython",
    "version": 3
   },
   "file_extension": ".py",
   "mimetype": "text/x-python",
   "name": "python",
   "nbconvert_exporter": "python",
   "pygments_lexer": "ipython3",
   "version": "3.5.6"
  }
 },
 "nbformat": 4,
 "nbformat_minor": 2
}
