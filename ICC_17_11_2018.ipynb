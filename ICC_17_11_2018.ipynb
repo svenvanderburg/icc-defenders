{
 "cells": [
  {
   "cell_type": "code",
   "execution_count": 1,
   "metadata": {},
   "outputs": [
    {
     "name": "stderr",
     "output_type": "stream",
     "text": [
      "C:\\ProgramData\\Anaconda3\\lib\\importlib\\_bootstrap.py:219: RuntimeWarning: cymem.cymem.Pool size changed, may indicate binary incompatibility. Expected 48 from C header, got 64 from PyObject\n",
      "  return f(*args, **kwds)\n",
      "C:\\ProgramData\\Anaconda3\\lib\\importlib\\_bootstrap.py:219: RuntimeWarning: cymem.cymem.Address size changed, may indicate binary incompatibility. Expected 24 from C header, got 40 from PyObject\n",
      "  return f(*args, **kwds)\n"
     ]
    }
   ],
   "source": [
    "import spacy\n",
    "import pandas as pd\n",
    "import numpy as np\n",
    "from collections import Counter\n",
    "from glob import glob\n",
    "import matplotlib.pyplot as plt\n",
    "from sklearn.decomposition import TruncatedSVD\n",
    "from sklearn.feature_extraction.text import TfidfVectorizer\n",
    "\n",
    "# Display plots in this notebook, instead of externally. \n",
    "from pylab import rcParams\n",
    "rcParams['figure.figsize'] = 16, 8\n",
    "%matplotlib inline\n",
    "\n",
    "# The following are optional dependencies. \n",
    "# Feel free to comment these out. \n",
    "# Sent2tree uses the sent2tree.py module in this repository. \n",
    "from sent2tree import sentenceTree\n",
    "import ete3 \n",
    "import seaborn"
   ]
  },
  {
   "cell_type": "code",
   "execution_count": 2,
   "metadata": {},
   "outputs": [
    {
     "name": "stderr",
     "output_type": "stream",
     "text": [
      "C:\\ProgramData\\Anaconda3\\lib\\importlib\\_bootstrap.py:219: RuntimeWarning: cymem.cymem.Pool size changed, may indicate binary incompatibility. Expected 48 from C header, got 64 from PyObject\n",
      "  return f(*args, **kwds)\n",
      "C:\\ProgramData\\Anaconda3\\lib\\importlib\\_bootstrap.py:219: RuntimeWarning: cymem.cymem.Address size changed, may indicate binary incompatibility. Expected 24 from C header, got 40 from PyObject\n",
      "  return f(*args, **kwds)\n"
     ]
    }
   ],
   "source": [
    "# This command might take a little while. \n",
    "#nlp = spacy.load('en')\n",
    "nlp = spacy.load('en_core_web_lg')"
   ]
  },
  {
   "cell_type": "code",
   "execution_count": 3,
   "metadata": {},
   "outputs": [],
   "source": [
    "pdf_text_refined = open('witness_text_clean.txt').read()"
   ]
  },
  {
   "cell_type": "code",
   "execution_count": 4,
   "metadata": {},
   "outputs": [],
   "source": [
    "# Parse the texts. These commands might take a little while. \n",
    "pdf_text = nlp(pdf_text_refined)"
   ]
  },
  {
   "cell_type": "code",
   "execution_count": 5,
   "metadata": {},
   "outputs": [
    {
     "data": {
      "text/plain": [
       "My"
      ]
     },
     "execution_count": 5,
     "metadata": {},
     "output_type": "execute_result"
    }
   ],
   "source": [
    "pdf_text[0]"
   ]
  },
  {
   "cell_type": "code",
   "execution_count": 6,
   "metadata": {},
   "outputs": [],
   "source": [
    "##Exploring Named Entities"
   ]
  },
  {
   "cell_type": "code",
   "execution_count": 7,
   "metadata": {},
   "outputs": [
    {
     "data": {
      "text/plain": [
       "{'CARDINAL', 'DATE', 'GPE', 'ORG', 'PERSON', 'TIME'}"
      ]
     },
     "execution_count": 7,
     "metadata": {},
     "output_type": "execute_result"
    }
   ],
   "source": [
    "set([w.label_ for w in pdf_text.ents])"
   ]
  },
  {
   "cell_type": "code",
   "execution_count": 8,
   "metadata": {},
   "outputs": [
    {
     "data": {
      "text/plain": [
       "[Goma, Goma, Congo]"
      ]
     },
     "execution_count": 8,
     "metadata": {},
     "output_type": "execute_result"
    }
   ],
   "source": [
    "[ent for ent in pdf_text.ents if ent.label_ == 'GPE']"
   ]
  },
  {
   "cell_type": "code",
   "execution_count": 9,
   "metadata": {},
   "outputs": [
    {
     "data": {
      "text/plain": [
       "{'Marcus BRODY'}"
      ]
     },
     "execution_count": 9,
     "metadata": {},
     "output_type": "execute_result"
    }
   ],
   "source": [
    "set(list([ent.string.strip() for ent in pdf_text.ents if ent.label_ == 'PERSON']))"
   ]
  },
  {
   "cell_type": "code",
   "execution_count": 10,
   "metadata": {},
   "outputs": [],
   "source": [
    "def ngrams(doc, n): \n",
    "    doc = [word for word in doc \n",
    "           if word.is_alpha # Get rid of punctuation\n",
    "           if not word.string.isupper()] # Get rid of all-caps speaker headings\n",
    "    return list(zip(*[doc[i:] for i in range(n)]))"
   ]
  },
  {
   "cell_type": "code",
   "execution_count": 11,
   "metadata": {},
   "outputs": [
    {
     "data": {
      "text/plain": [
       "{(My, name, is),\n",
       " (name, is, Marcus),\n",
       " (is, Marcus, am),\n",
       " (Marcus, am, years),\n",
       " (am, years, old),\n",
       " (years, old, In),\n",
       " (old, In, late),\n",
       " (In, late, t),\n",
       " (late, t, remember),\n",
       " (t, remember, exactly),\n",
       " (remember, exactly, when),\n",
       " (exactly, when, there),\n",
       " (when, there, was),\n",
       " (there, was, a),\n",
       " (was, a, lot),\n",
       " (a, lot, of),\n",
       " (lot, of, fighting),\n",
       " (of, fighting, in),\n",
       " (fighting, in, Goma),\n",
       " (in, Goma, where),\n",
       " (Goma, where, was),\n",
       " (where, was, living),\n",
       " (was, living, with),\n",
       " (living, with, my),\n",
       " (with, my, cousins),\n",
       " (my, cousins, My),\n",
       " (cousins, My, parents),\n",
       " (My, parents, and),\n",
       " (parents, and, sisters),\n",
       " (and, sisters, were),\n",
       " (sisters, were, already),\n",
       " (were, already, killed),\n",
       " (already, killed, by),\n",
       " (killed, by, the),\n",
       " (by, the, Rebels),\n",
       " (the, Rebels, They),\n",
       " (Rebels, They, had),\n",
       " (They, had, attacked),\n",
       " (had, attacked, our),\n",
       " (attacked, our, village),\n",
       " (our, village, one),\n",
       " (village, one, night),\n",
       " (one, night, with),\n",
       " (night, with, guns),\n",
       " (with, guns, and),\n",
       " (guns, and, grenades),\n",
       " (and, grenades, went),\n",
       " (grenades, went, to),\n",
       " (went, to, a),\n",
       " (to, a, rally),\n",
       " (a, rally, in),\n",
       " (rally, in, Goma),\n",
       " (in, Goma, where),\n",
       " (Goma, where, several),\n",
       " (where, several, Government),\n",
       " (several, Government, commanders),\n",
       " (Government, commanders, spoke),\n",
       " (commanders, spoke, and),\n",
       " (spoke, and, said),\n",
       " (and, said, that),\n",
       " (said, that, the),\n",
       " (that, the, President),\n",
       " (the, President, and),\n",
       " (President, and, the),\n",
       " (and, the, were),\n",
       " (the, were, defending),\n",
       " (were, defending, Congo),\n",
       " (defending, Congo, remember),\n",
       " (Congo, remember, one),\n",
       " (remember, one, of),\n",
       " (one, of, the),\n",
       " (of, the, commanders),\n",
       " (the, commanders, who),\n",
       " (commanders, who, spoke),\n",
       " (who, spoke, was),\n",
       " (spoke, was, Chief),\n",
       " (was, Chief, because),\n",
       " (Chief, because, everyone),\n",
       " (because, everyone, cheered),\n",
       " (everyone, cheered, when),\n",
       " (cheered, when, he),\n",
       " (when, he, got),\n",
       " (he, got, up),\n",
       " (got, up, to),\n",
       " (up, to, speak),\n",
       " (to, speak, There),\n",
       " (speak, There, were),\n",
       " (There, were, many),\n",
       " (were, many, soldiers),\n",
       " (many, soldiers, at),\n",
       " (soldiers, at, the),\n",
       " (at, the, rally),\n",
       " (the, rally, about),\n",
       " (rally, about, the),\n",
       " (about, the, same),\n",
       " (the, same, as),\n",
       " (same, as, the),\n",
       " (as, the, number),\n",
       " (the, number, of),\n",
       " (number, of, children),\n",
       " (of, children, in),\n",
       " (children, in, my),\n",
       " (in, my, school),\n",
       " (my, school, Each),\n",
       " (school, Each, family),\n",
       " (Each, family, had),\n",
       " (family, had, to),\n",
       " (had, to, contribute),\n",
       " (to, contribute, a),\n",
       " (contribute, a, cow),\n",
       " (a, cow, or),\n",
       " (cow, or, a),\n",
       " (or, a, goat),\n",
       " (a, goat, or),\n",
       " (goat, or, a),\n",
       " (or, a, child),\n",
       " (a, child, was),\n",
       " (child, was, around),\n",
       " (was, around, ten),\n",
       " (around, ten, years),\n",
       " (ten, years, old),\n",
       " (years, old, then),\n",
       " (old, then, My),\n",
       " (then, My, aunt),\n",
       " (My, aunt, said),\n",
       " (aunt, said, should),\n",
       " (said, should, go),\n",
       " (should, go, since),\n",
       " (go, since, my),\n",
       " (since, my, family),\n",
       " (my, family, was),\n",
       " (family, was, dead),\n",
       " (was, dead, because),\n",
       " (dead, because, of),\n",
       " (because, of, the),\n",
       " (of, the, Rebels),\n",
       " (the, Rebels, followed),\n",
       " (Rebels, followed, the),\n",
       " (followed, the, soldiers)}"
      ]
     },
     "execution_count": 11,
     "metadata": {},
     "output_type": "execute_result"
    }
   ],
   "source": [
    "grailGrams = set(ngrams(pdf_text, 3))\n",
    "grailGrams"
   ]
  },
  {
   "cell_type": "code",
   "execution_count": 12,
   "metadata": {},
   "outputs": [],
   "source": [
    "for gram in grailGrams:\n",
    "    if sum([word.prob for word in gram]) < -40:\n",
    "        print(gram)"
   ]
  },
  {
   "cell_type": "code",
   "execution_count": 13,
   "metadata": {},
   "outputs": [],
   "source": [
    "##Word Embeddings (Word Vectors)"
   ]
  },
  {
   "cell_type": "code",
   "execution_count": 14,
   "metadata": {},
   "outputs": [],
   "source": [
    "pdfNouns = [word for word in pdf_text if word.pos_.startswith('N')][:150]"
   ]
  },
  {
   "cell_type": "code",
   "execution_count": 15,
   "metadata": {},
   "outputs": [],
   "source": [
    "pdfNounVecs = [word.vector for word in pdfNouns]\n",
    "pdfNounLabels = [word.string.strip() for word in pdfNouns]"
   ]
  },
  {
   "cell_type": "code",
   "execution_count": 16,
   "metadata": {},
   "outputs": [
    {
     "data": {
      "text/plain": [
       "(300,)"
      ]
     },
     "execution_count": 16,
     "metadata": {},
     "output_type": "execute_result"
    }
   ],
   "source": [
    "pdfNounVecs[0].shape"
   ]
  },
  {
   "cell_type": "code",
   "execution_count": 17,
   "metadata": {},
   "outputs": [],
   "source": [
    "lsa = TruncatedSVD(n_components=2)\n",
    "lsaOut = lsa.fit_transform(pdfNounVecs)"
   ]
  },
  {
   "cell_type": "code",
   "execution_count": 18,
   "metadata": {},
   "outputs": [
    {
     "data": {
      "image/png": "[encoded data removed]",
      "text/plain": [
       "<Figure size 720x720 with 1 Axes>"
      ]
     },
     "metadata": {},
     "output_type": "display_data"
    }
   ],
   "source": [
    "xs, ys = lsaOut[:,0], lsaOut[:,1]\n",
    "plt.figure(figsize=[10,10])\n",
    "for i in range(len(xs)): \n",
    "    plt.scatter(xs[i], ys[i])\n",
    "    plt.annotate(pdfNounLabels[i], (xs[i], ys[i]))"
   ]
  },
  {
   "cell_type": "code",
   "execution_count": null,
   "metadata": {},
   "outputs": [],
   "source": []
  }
 ],
 "metadata": {
  "kernelspec": {
   "display_name": "Python 3",
   "language": "python",
   "name": "python3"
  },
  "language_info": {
   "codemirror_mode": {
    "name": "ipython",
    "version": 3
   },
   "file_extension": ".py",
   "mimetype": "text/x-python",
   "name": "python",
   "nbconvert_exporter": "python",
   "pygments_lexer": "ipython3",
   "version": "3.6.5"
  }
 },
 "nbformat": 4,
 "nbformat_minor": 2
}
